{
 "cells": [
  {
   "cell_type": "code",
   "execution_count": 1,
   "metadata": {},
   "outputs": [],
   "source": [
    "# import the library module for SHA\n",
    "import sys\n",
    "import hashlib\n",
    "import numpy\n",
    "\n",
    "if sys.version_info < (3, 6):\n",
    "\timport sha3"
   ]
  },
  {
   "cell_type": "code",
   "execution_count": 2,
   "metadata": {},
   "outputs": [
    {
     "name": "stdout",
     "output_type": "stream",
     "text": [
      "\n",
      "SHA3-256 Hash 1:  2fae5ece57f5327c1c073164ba17c0ad4d7444bc7022c444bdde623f4dfa6ef7\n"
     ]
    }
   ],
   "source": [
    "# initialize a string\n",
    "x = numpy.random.rand(64)\n",
    "\n",
    "# create sha3-256 hash objects\n",
    "obj_sha3_256 = hashlib.sha3_256(x)\n",
    "\n",
    "# print in hexadecimal\n",
    "print(\"\\nSHA3-256 Hash 1: \", obj_sha3_256.hexdigest())\n",
    "x_2 = obj_sha3_256.digest()\n",
    "x_3 = obj_sha3_256.hexdigest()\n",
    "#print(x_2)\n",
    "#obj_sha3_256_2 = hashlib.sha3_256(x_2)\n",
    "#print(\"\\nSHA3-256 Hash 2: \", obj_sha3_256_2.hexdigest())"
   ]
  },
  {
   "cell_type": "code",
   "execution_count": 3,
   "metadata": {},
   "outputs": [
    {
     "name": "stdout",
     "output_type": "stream",
     "text": [
      "Initial string 2fae5ece57f5327c1c073164ba17c0ad4d7444bc7022c444bdde623f4dfa6ef7\n",
      "Resultant string 0b10111110101110010111101100111001010111111101010011001001111100000111000000011100110001011001001011101000010111110000001010110101001101011101000100010010111100011100000010001011000100010001001011110111011110011000100011111101001101111110100110111011110111\n",
      "['10111', '11010', '11100', '10111', '10110', '01110', '01010', '11111', '11010', '10011', '00100', '11111', '00000', '11100', '00000', '11100', '11000', '10110', '01001', '01110', '10000', '10111', '11000', '00010', '10110', '10100', '11010', '11101', '00010', '00100', '10111', '10001', '11000', '00010', '00101', '10001', '00010', '00100', '10111', '10111', '01111', '00110', '00100', '01111', '11010', '01101', '11111', '01001', '10111', '01111', '0111']\n"
     ]
    }
   ],
   "source": [
    "# initialize hex string\n",
    "ini_string = x_3\n",
    "scale = 16\n",
    "\n",
    "# printing initial string\n",
    "print (\"Initial string\", ini_string)\n",
    "\n",
    "# code to convert hex to binary\n",
    "res = bin(int(ini_string, scale)).zfill(8)\n",
    "\n",
    "# print the resultant string\n",
    "print (\"Resultant string\", str(res))\n",
    "\n",
    "array_5_bit_values = []\n",
    "\n",
    "i = 0\n",
    "\n",
    "while i < 51 : \n",
    "  five_bits = res[5*i+2:5*i+7]\n",
    "  array_5_bit_values.append(five_bits)\n",
    "  i = i + 1\n",
    "\n",
    "\n",
    "print(array_5_bit_values)"
   ]
  },
  {
   "cell_type": "code",
   "execution_count": 4,
   "metadata": {},
   "outputs": [],
   "source": [
    "# input = "
   ]
  },
  {
   "cell_type": "code",
   "execution_count": 5,
   "metadata": {},
   "outputs": [],
   "source": [
    "# importing Qiskit\n",
    "from qiskit import QuantumCircuit, QuantumRegister, ClassicalRegister\n",
    "from qiskit import BasicAer, IBMQ, execute\n",
    "from qiskit.tools.monitor import job_monitor\n",
    "\n",
    "# import basic plot tools\n",
    "from qiskit.tools.visualization import plot_histogram\n",
    "\n",
    "# useful additional packages \n",
    "import numpy as np #library for scientific computing\n",
    "\n",
    "# from ibm_quantum_widgets import CircuitComposer\n",
    "from qiskit import QuantumRegister, ClassicalRegister, QuantumCircuit\n",
    "from numpy import pi"
   ]
  },
  {
   "cell_type": "code",
   "execution_count": 6,
   "metadata": {},
   "outputs": [],
   "source": [
    "#setting the quantum circuit\n",
    "qreg_q = QuantumRegister(5, 'q')\n",
    "creg_c = ClassicalRegister(5, 'c')\n",
    "\n",
    "circuit = QuantumCircuit(qreg_q, creg_c)"
   ]
  },
  {
   "cell_type": "code",
   "execution_count": 7,
   "metadata": {},
   "outputs": [],
   "source": [
    "#loading the bitchain\n",
    "bitchain = [0,1,1,0,1]\n",
    "for i in range(len(bitchain)):\n",
    "    if bitchain[i] == 1:\n",
    "        circuit.x(qreg_q[i])     "
   ]
  },
  {
   "cell_type": "code",
   "execution_count": 8,
   "metadata": {},
   "outputs": [
    {
     "data": {
      "text/plain": [
       "<qiskit.circuit.instructionset.InstructionSet at 0x15ccb36e788>"
      ]
     },
     "execution_count": 8,
     "metadata": {},
     "output_type": "execute_result"
    }
   ],
   "source": [
    "#program the circuit\n",
    "circuit.h(qreg_q[0])\n",
    "# circuit.x(qreg_q[1])\n",
    "# circuit.x(qreg_q[3])\n",
    "circuit.cx(qreg_q[0], qreg_q[1])\n",
    "circuit.ccx(qreg_q[1], qreg_q[2], qreg_q[3])\n",
    "circuit.swap(qreg_q[3], qreg_q[4])\n",
    "circuit.h(qreg_q[4])\n",
    "circuit.measure(qreg_q[0], creg_c[0])\n",
    "circuit.measure(qreg_q[1], creg_c[1])\n",
    "circuit.measure(qreg_q[2], creg_c[2])\n",
    "circuit.measure(qreg_q[3], creg_c[3])\n",
    "circuit.measure(qreg_q[4], creg_c[4])"
   ]
  },
  {
   "cell_type": "code",
   "execution_count": 9,
   "metadata": {},
   "outputs": [
    {
     "data": {
      "image/png": "[encoded data removed]",
      "text/plain": [
       "<Figure size 758.52x385.28 with 1 Axes>"
      ]
     },
     "execution_count": 9,
     "metadata": {},
     "output_type": "execute_result"
    }
   ],
   "source": [
    "#draw the quantum circuit\n",
    "circuit.draw(output='mpl')"
   ]
  },
  {
   "cell_type": "code",
   "execution_count": 10,
   "metadata": {},
   "outputs": [
    {
     "name": "stderr",
     "output_type": "stream",
     "text": [
      "Remote backend \"ibmq_lima\" could not be instantiated due to an invalid config: \"{'gates': {5: {'parameters': ['Field may not be null.'], 'qasm_def': ['Field may not be null.'], 'coupling_map': ['Shorter than minimum length 1.']}}}\"\n",
      "Remote backend \"ibmq_belem\" could not be instantiated due to an invalid config: \"{'gates': {5: {'parameters': ['Field may not be null.'], 'qasm_def': ['Field may not be null.'], 'coupling_map': ['Shorter than minimum length 1.']}}}\"\n",
      "Remote backend \"ibmq_quito\" could not be instantiated due to an invalid config: \"{'gates': {5: {'parameters': ['Field may not be null.'], 'qasm_def': ['Field may not be null.'], 'coupling_map': ['Shorter than minimum length 1.']}}}\"\n",
      "Remote backend \"ibmq_manila\" could not be instantiated due to an invalid config: \"{'gates': {5: {'parameters': ['Field may not be null.'], 'qasm_def': ['Field may not be null.'], 'coupling_map': ['Shorter than minimum length 1.']}}}\"\n"
     ]
    },
    {
     "name": "stdout",
     "output_type": "stream",
     "text": [
      "least busy backend:  ibmq_bogota\n"
     ]
    }
   ],
   "source": [
    "# backend = BasicAer.get_backend('qasm_simulator') # run on local simulator by default \n",
    "\n",
    "# # Uncomment the following lines to run on a real device\n",
    "from qiskit import IBMQ\n",
    "from qiskit.providers.ibmq import least_busy\n",
    "\n",
    "# Load local account information\n",
    "IBMQ.load_account()\n",
    "provider = IBMQ.get_provider(hub='ibm-q')\n",
    "backend = least_busy(provider.backends(filters=lambda x: x.configuration().n_qubits >= 3 and not x.configuration().simulator and x.status().operational==True))\n",
    "print(\"least busy backend: \", backend)"
   ]
  },
  {
   "cell_type": "code",
   "execution_count": 11,
   "metadata": {},
   "outputs": [],
   "source": [
    "# IBMQ.load_account()\n",
    "# provider = IBMQ.get_provider(hub='ibm-q')\n",
    "# backend = provider.backend.ibmq_manila"
   ]
  },
  {
   "cell_type": "code",
   "execution_count": 12,
   "metadata": {},
   "outputs": [],
   "source": [
    "# from qiskit import IBMQ, schedule\n",
    "# IBMQ.load_account()\n",
    "# provider = IBMQ.get_provider(hub='ibm-q', group='open', project='main')\n",
    "# backend = provider.get_backend('ibmq_manila')"
   ]
  },
  {
   "cell_type": "code",
   "execution_count": 15,
   "metadata": {},
   "outputs": [
    {
     "ename": "IBMQJobApiError",
     "evalue": "'\"{\\'results\\': {0: {\\'seed\\': [\\'Field may not be null.\\'], \\'meas_return\\': [\\'Field may not be null.\\'], \\'data\\': {\\'statevector\\': [\\'Field may not be null.\\'], \\'unitary\\': [\\'Field may not be null.\\'], \\'memory\\': [\\'Field may not be null.\\'], \\'snapshots\\': [\\'Field may not be null.\\']}, \\'status\\': [\\'Field may not be null.\\']}}}\"'",
     "output_type": "error",
     "traceback": [
      "\u001b[1;31m---------------------------------------------------------------------------\u001b[0m",
      "\u001b[1;31mModelValidationError\u001b[0m                      Traceback (most recent call last)",
      "\u001b[1;32mC:\\ProgramData\\Anaconda3\\lib\\site-packages\\qiskit\\providers\\ibmq\\job\\ibmqjob.py\u001b[0m in \u001b[0;36m_retrieve_result\u001b[1;34m(self, refresh)\u001b[0m\n\u001b[0;32m    551\u001b[0m                 \u001b[0mresult_response\u001b[0m \u001b[1;33m=\u001b[0m \u001b[0mself\u001b[0m\u001b[1;33m.\u001b[0m\u001b[0m_api\u001b[0m\u001b[1;33m.\u001b[0m\u001b[0mjob_result\u001b[0m\u001b[1;33m(\u001b[0m\u001b[0mself\u001b[0m\u001b[1;33m.\u001b[0m\u001b[0mjob_id\u001b[0m\u001b[1;33m(\u001b[0m\u001b[1;33m)\u001b[0m\u001b[1;33m,\u001b[0m \u001b[0mself\u001b[0m\u001b[1;33m.\u001b[0m\u001b[0m_use_object_storage\u001b[0m\u001b[1;33m)\u001b[0m\u001b[1;33m\u001b[0m\u001b[1;33m\u001b[0m\u001b[0m\n\u001b[1;32m--> 552\u001b[1;33m                 \u001b[0mself\u001b[0m\u001b[1;33m.\u001b[0m\u001b[0m_result\u001b[0m \u001b[1;33m=\u001b[0m \u001b[0mResult\u001b[0m\u001b[1;33m.\u001b[0m\u001b[0mfrom_dict\u001b[0m\u001b[1;33m(\u001b[0m\u001b[0mresult_response\u001b[0m\u001b[1;33m)\u001b[0m\u001b[1;33m\u001b[0m\u001b[1;33m\u001b[0m\u001b[0m\n\u001b[0m\u001b[0;32m    553\u001b[0m             \u001b[1;32mexcept\u001b[0m \u001b[1;33m(\u001b[0m\u001b[0mModelValidationError\u001b[0m\u001b[1;33m,\u001b[0m \u001b[0mApiError\u001b[0m\u001b[1;33m)\u001b[0m \u001b[1;32mas\u001b[0m \u001b[0merr\u001b[0m\u001b[1;33m:\u001b[0m\u001b[1;33m\u001b[0m\u001b[1;33m\u001b[0m\u001b[0m\n",
      "\u001b[1;32mC:\\ProgramData\\Anaconda3\\lib\\site-packages\\qiskit\\validation\\base.py\u001b[0m in \u001b[0;36mfrom_dict\u001b[1;34m(cls, dict_)\u001b[0m\n\u001b[0;32m    350\u001b[0m             raise ModelValidationError(\n\u001b[1;32m--> 351\u001b[1;33m                 ex.messages, ex.field_name, ex.data, ex.valid_data, **ex.kwargs) from None\n\u001b[0m\u001b[0;32m    352\u001b[0m \u001b[1;33m\u001b[0m\u001b[0m\n",
      "\u001b[1;31mModelValidationError\u001b[0m: \"{'results': {0: {'seed': ['Field may not be null.'], 'meas_return': ['Field may not be null.'], 'data': {'statevector': ['Field may not be null.'], 'unitary': ['Field may not be null.'], 'memory': ['Field may not be null.'], 'snapshots': ['Field may not be null.']}, 'status': ['Field may not be null.']}}}\"",
      "\nDuring handling of the above exception, another exception occurred:\n",
      "\u001b[1;31mIBMQJobApiError\u001b[0m                           Traceback (most recent call last)",
      "\u001b[1;32m<ipython-input-15-339b06b4f41a>\u001b[0m in \u001b[0;36m<module>\u001b[1;34m\u001b[0m\n\u001b[0;32m      1\u001b[0m \u001b[1;31m# run job and result\u001b[0m\u001b[1;33m\u001b[0m\u001b[1;33m\u001b[0m\u001b[1;33m\u001b[0m\u001b[0m\n\u001b[0;32m      2\u001b[0m \u001b[1;31m# QPoW_job = execute(circuit, backend)\u001b[0m\u001b[1;33m\u001b[0m\u001b[1;33m\u001b[0m\u001b[1;33m\u001b[0m\u001b[0m\n\u001b[1;32m----> 3\u001b[1;33m \u001b[0mQPoW_results\u001b[0m \u001b[1;33m=\u001b[0m \u001b[0mQPoW_job\u001b[0m\u001b[1;33m.\u001b[0m\u001b[0mresult\u001b[0m\u001b[1;33m(\u001b[0m\u001b[1;33m)\u001b[0m\u001b[1;33m\u001b[0m\u001b[1;33m\u001b[0m\u001b[0m\n\u001b[0m\u001b[0;32m      4\u001b[0m \u001b[0mjob_monitor\u001b[0m\u001b[1;33m(\u001b[0m\u001b[0mQPoW_job\u001b[0m\u001b[1;33m)\u001b[0m\u001b[1;33m\u001b[0m\u001b[1;33m\u001b[0m\u001b[0m\n",
      "\u001b[1;32mC:\\ProgramData\\Anaconda3\\lib\\site-packages\\qiskit\\providers\\ibmq\\job\\ibmqjob.py\u001b[0m in \u001b[0;36mresult\u001b[1;34m(self, timeout, wait, partial, refresh)\u001b[0m\n\u001b[0;32m    248\u001b[0m                                           'Use job.error_message() to get more details.')\n\u001b[0;32m    249\u001b[0m \u001b[1;33m\u001b[0m\u001b[0m\n\u001b[1;32m--> 250\u001b[1;33m         \u001b[1;32mreturn\u001b[0m \u001b[0mself\u001b[0m\u001b[1;33m.\u001b[0m\u001b[0m_retrieve_result\u001b[0m\u001b[1;33m(\u001b[0m\u001b[0mrefresh\u001b[0m\u001b[1;33m=\u001b[0m\u001b[0mrefresh\u001b[0m\u001b[1;33m)\u001b[0m\u001b[1;33m\u001b[0m\u001b[1;33m\u001b[0m\u001b[0m\n\u001b[0m\u001b[0;32m    251\u001b[0m \u001b[1;33m\u001b[0m\u001b[0m\n\u001b[0;32m    252\u001b[0m     \u001b[1;32mdef\u001b[0m \u001b[0mcancel\u001b[0m\u001b[1;33m(\u001b[0m\u001b[0mself\u001b[0m\u001b[1;33m)\u001b[0m \u001b[1;33m->\u001b[0m \u001b[0mbool\u001b[0m\u001b[1;33m:\u001b[0m\u001b[1;33m\u001b[0m\u001b[1;33m\u001b[0m\u001b[0m\n",
      "\u001b[1;32mC:\\ProgramData\\Anaconda3\\lib\\site-packages\\qiskit\\providers\\ibmq\\job\\ibmqjob.py\u001b[0m in \u001b[0;36m_retrieve_result\u001b[1;34m(self, refresh)\u001b[0m\n\u001b[0;32m    557\u001b[0m                 \u001b[1;32mif\u001b[0m \u001b[1;32mnot\u001b[0m \u001b[0mself\u001b[0m\u001b[1;33m.\u001b[0m\u001b[0mkind\u001b[0m\u001b[1;33m:\u001b[0m\u001b[1;33m\u001b[0m\u001b[1;33m\u001b[0m\u001b[0m\n\u001b[0;32m    558\u001b[0m                     \u001b[1;32mraise\u001b[0m \u001b[0mIBMQJobInvalidStateError\u001b[0m\u001b[1;33m(\u001b[0m\u001b[1;34m'Job result is in an unsupported format.'\u001b[0m\u001b[1;33m)\u001b[0m\u001b[1;33m\u001b[0m\u001b[1;33m\u001b[0m\u001b[0m\n\u001b[1;32m--> 559\u001b[1;33m                 \u001b[1;32mraise\u001b[0m \u001b[0mIBMQJobApiError\u001b[0m\u001b[1;33m(\u001b[0m\u001b[0mstr\u001b[0m\u001b[1;33m(\u001b[0m\u001b[0merr\u001b[0m\u001b[1;33m)\u001b[0m\u001b[1;33m)\u001b[0m\u001b[1;33m\u001b[0m\u001b[1;33m\u001b[0m\u001b[0m\n\u001b[0m\u001b[0;32m    560\u001b[0m             \u001b[1;32mfinally\u001b[0m\u001b[1;33m:\u001b[0m\u001b[1;33m\u001b[0m\u001b[1;33m\u001b[0m\u001b[0m\n\u001b[0;32m    561\u001b[0m                 \u001b[1;31m# In case partial results are returned or job failure, an error message is cached.\u001b[0m\u001b[1;33m\u001b[0m\u001b[1;33m\u001b[0m\u001b[1;33m\u001b[0m\u001b[0m\n",
      "\u001b[1;31mIBMQJobApiError\u001b[0m: '\"{\\'results\\': {0: {\\'seed\\': [\\'Field may not be null.\\'], \\'meas_return\\': [\\'Field may not be null.\\'], \\'data\\': {\\'statevector\\': [\\'Field may not be null.\\'], \\'unitary\\': [\\'Field may not be null.\\'], \\'memory\\': [\\'Field may not be null.\\'], \\'snapshots\\': [\\'Field may not be null.\\']}, \\'status\\': [\\'Field may not be null.\\']}}}\"'"
     ]
    }
   ],
   "source": [
    "# run job and result\n",
    "# QPoW_job = execute(circuit, backend)\n",
    "QPoW_results = QPoW_job.result()\n",
    "job_monitor(QPoW_job)"
   ]
  },
  {
   "cell_type": "code",
   "execution_count": 14,
   "metadata": {},
   "outputs": [
    {
     "ename": "NameError",
     "evalue": "name 'QPoW_results' is not defined",
     "output_type": "error",
     "traceback": [
      "\u001b[1;31m---------------------------------------------------------------------------\u001b[0m",
      "\u001b[1;31mNameError\u001b[0m                                 Traceback (most recent call last)",
      "\u001b[1;32m<ipython-input-14-9db5ee128f91>\u001b[0m in \u001b[0;36m<module>\u001b[1;34m\u001b[0m\n\u001b[0;32m      1\u001b[0m \u001b[1;31m# plot results\u001b[0m\u001b[1;33m\u001b[0m\u001b[1;33m\u001b[0m\u001b[1;33m\u001b[0m\u001b[0m\n\u001b[1;32m----> 2\u001b[1;33m \u001b[0mplot_histogram\u001b[0m\u001b[1;33m(\u001b[0m\u001b[0mQPoW_results\u001b[0m\u001b[1;33m.\u001b[0m\u001b[0mget_counts\u001b[0m\u001b[1;33m(\u001b[0m\u001b[0mcircuit\u001b[0m\u001b[1;33m)\u001b[0m\u001b[1;33m)\u001b[0m\u001b[1;33m\u001b[0m\u001b[1;33m\u001b[0m\u001b[0m\n\u001b[0m",
      "\u001b[1;31mNameError\u001b[0m: name 'QPoW_results' is not defined"
     ]
    }
   ],
   "source": [
    "# plot results\n",
    "plot_histogram(QPoW_results.get_counts(circuit))"
   ]
  },
  {
   "cell_type": "code",
   "execution_count": null,
   "metadata": {},
   "outputs": [],
   "source": [
    "output = list(QPoW_results.get_counts(circuit))\n",
    "output_cat = ''.join(output)"
   ]
  },
  {
   "cell_type": "code",
   "execution_count": null,
   "metadata": {},
   "outputs": [],
   "source": [
    "output_cat"
   ]
  },
  {
   "cell_type": "code",
   "execution_count": null,
   "metadata": {},
   "outputs": [],
   "source": [
    "encoded_str = str.encode(output_cat)\n",
    "obj_sha3_256_3 = hashlib.sha3_256(encoded_str)\n",
    "print(\"\\nSHA3-256 Hash 3: \", obj_sha3_256_3.hexdigest())"
   ]
  },
  {
   "cell_type": "code",
   "execution_count": null,
   "metadata": {},
   "outputs": [],
   "source": []
  }
 ],
 "metadata": {
  "kernelspec": {
   "display_name": "Python 3",
   "language": "python",
   "name": "python3"
  },
  "language_info": {
   "codemirror_mode": {
    "name": "ipython",
    "version": 3
   },
   "file_extension": ".py",
   "mimetype": "text/x-python",
   "name": "python",
   "nbconvert_exporter": "python",
   "pygments_lexer": "ipython3",
   "version": "3.7.4"
  }
 },
 "nbformat": 4,
 "nbformat_minor": 2
}
