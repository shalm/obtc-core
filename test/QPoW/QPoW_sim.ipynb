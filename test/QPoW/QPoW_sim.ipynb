{
 "cells": [
  {
   "cell_type": "code",
   "execution_count": 1,
   "metadata": {},
   "outputs": [],
   "source": [
    "# import the library module for SHA\n",
    "import sys\n",
    "import hashlib\n",
    "import numpy\n",
    "\n",
    "if sys.version_info < (3, 6):\n",
    "\timport sha3"
   ]
  },
  {
   "cell_type": "code",
   "execution_count": 2,
   "metadata": {},
   "outputs": [
    {
     "name": "stdout",
     "output_type": "stream",
     "text": [
      "\n",
      "SHA3-256 Hash 1:  cb7042d129267ef0783f2401dbcc27403be76262a7a65d53207c824e41283f36\n"
     ]
    }
   ],
   "source": [
    "# initialize a string\n",
    "x = numpy.random.rand(64)\n",
    "\n",
    "# create sha3-256 hash objects\n",
    "obj_sha3_256 = hashlib.sha3_256(x)\n",
    "\n",
    "# print in hexadecimal\n",
    "print(\"\\nSHA3-256 Hash 1: \", obj_sha3_256.hexdigest())\n",
    "x_2 = obj_sha3_256.digest()\n",
    "x_3 = obj_sha3_256.hexdigest()\n",
    "#print(x_2)\n",
    "#obj_sha3_256_2 = hashlib.sha3_256(x_2)\n",
    "#print(\"\\nSHA3-256 Hash 2: \", obj_sha3_256_2.hexdigest())"
   ]
  },
  {
   "cell_type": "code",
   "execution_count": 3,
   "metadata": {},
   "outputs": [
    {
     "name": "stdout",
     "output_type": "stream",
     "text": [
      "Initial string cb7042d129267ef0783f2401dbcc27403be76262a7a65d53207c824e41283f36\n",
      "Resultant string 0b1100101101110000010000101101000100101001001001100111111011110000011110000011111100100100000000011101101111001100001001110100000000111011111001110110001001100010101001111010011001011101010100110010000001111100100000100100111001000001001010000011111100110110\n",
      "['11001', '01101', '11000', '00100', '00101', '10100', '01001', '01001', '00100', '11001', '11111', '01111', '00000', '11110', '00001', '11111', '00100', '10000', '00000', '11101', '10111', '10011', '00001', '00111', '01000', '00000', '11101', '11110', '01110', '11000', '10011', '00010', '10100', '11110', '10011', '00101', '11010', '10100', '11001', '00000', '01111', '10010', '00001', '00100', '11100', '10000', '01001', '01000', '00111', '11100', '11011']\n"
     ]
    }
   ],
   "source": [
    "# initialize hex string\n",
    "ini_string = x_3\n",
    "scale = 16\n",
    "\n",
    "# printing initial string\n",
    "print (\"Initial string\", ini_string)\n",
    "\n",
    "# code to convert hex to binary\n",
    "res = bin(int(ini_string, scale)).zfill(8)\n",
    "\n",
    "# print the resultant string\n",
    "print (\"Resultant string\", str(res))\n",
    "\n",
    "array_5_bit_values = []\n",
    "\n",
    "i = 0\n",
    "\n",
    "while i < 51 : \n",
    "  five_bits = res[5*i+2:5*i+7]\n",
    "  array_5_bit_values.append(five_bits)\n",
    "  i = i + 1\n",
    "\n",
    "\n",
    "print(array_5_bit_values)"
   ]
  },
  {
   "cell_type": "code",
   "execution_count": null,
   "metadata": {},
   "outputs": [],
   "source": []
  },
  {
   "cell_type": "code",
   "execution_count": 4,
   "metadata": {},
   "outputs": [],
   "source": [
    "# input = "
   ]
  },
  {
   "cell_type": "code",
   "execution_count": 5,
   "metadata": {},
   "outputs": [],
   "source": [
    "# importing Qiskit\n",
    "from qiskit import QuantumCircuit, QuantumRegister, ClassicalRegister\n",
    "from qiskit import BasicAer, IBMQ, execute\n",
    "from qiskit.tools.monitor import job_monitor\n",
    "\n",
    "# import basic plot tools\n",
    "from qiskit.tools.visualization import plot_histogram\n",
    "\n",
    "# useful additional packages \n",
    "import numpy as np #library for scientific computing\n",
    "\n",
    "# from ibm_quantum_widgets import CircuitComposer\n",
    "from qiskit import QuantumRegister, ClassicalRegister, QuantumCircuit\n",
    "from numpy import pi"
   ]
  },
  {
   "cell_type": "code",
   "execution_count": 6,
   "metadata": {},
   "outputs": [],
   "source": [
    "#setting the quantum circuit\n",
    "qreg_q = QuantumRegister(5, 'q')\n",
    "creg_c = ClassicalRegister(5, 'c')\n",
    "\n",
    "circuit = QuantumCircuit(qreg_q, creg_c)"
   ]
  },
  {
   "cell_type": "code",
   "execution_count": 7,
   "metadata": {},
   "outputs": [],
   "source": [
    "#loading the bitchain\n",
    "bitchain = [0,1,1,0,1]\n",
    "for i in range(len(bitchain)):\n",
    "    if bitchain[i] == 1:\n",
    "        circuit.x(qreg_q[i])     "
   ]
  },
  {
   "cell_type": "code",
   "execution_count": 8,
   "metadata": {},
   "outputs": [
    {
     "name": "stdout",
     "output_type": "stream",
     "text": [
      "0\n",
      "1\n",
      "2\n",
      "3\n",
      "4\n"
     ]
    }
   ],
   "source": [
    "for i in range(len(bitchain)):\n",
    "    print(i)"
   ]
  },
  {
   "cell_type": "code",
   "execution_count": 9,
   "metadata": {},
   "outputs": [
    {
     "data": {
      "text/plain": [
       "<qiskit.circuit.instructionset.InstructionSet at 0x1c0279bfdc8>"
      ]
     },
     "execution_count": 9,
     "metadata": {},
     "output_type": "execute_result"
    }
   ],
   "source": [
    "#program the circuit\n",
    "circuit.h(qreg_q[0])\n",
    "# circuit.x(qreg_q[1])\n",
    "# circuit.x(qreg_q[3])\n",
    "circuit.cx(qreg_q[0], qreg_q[1])\n",
    "circuit.ccx(qreg_q[1], qreg_q[2], qreg_q[3])\n",
    "circuit.swap(qreg_q[3], qreg_q[4])\n",
    "circuit.h(qreg_q[4])\n",
    "circuit.measure(qreg_q[0], creg_c[0])\n",
    "circuit.measure(qreg_q[1], creg_c[1])\n",
    "circuit.measure(qreg_q[2], creg_c[2])\n",
    "circuit.measure(qreg_q[3], creg_c[3])\n",
    "circuit.measure(qreg_q[4], creg_c[4])"
   ]
  },
  {
   "cell_type": "code",
   "execution_count": 10,
   "metadata": {},
   "outputs": [
    {
     "data": {
      "image/png": "[encoded data removed]",
      "text/plain": [
       "<Figure size 758.52x385.28 with 1 Axes>"
      ]
     },
     "execution_count": 10,
     "metadata": {},
     "output_type": "execute_result"
    }
   ],
   "source": [
    "#draw the quantum circuit\n",
    "circuit.draw(output='mpl')"
   ]
  },
  {
   "cell_type": "code",
   "execution_count": 11,
   "metadata": {},
   "outputs": [],
   "source": [
    "backend = BasicAer.get_backend('qasm_simulator') # run on local simulator by default \n",
    "\n",
    "# Uncomment the following lines to run on a real device\n",
    "# from qiskit import IBMQ\n",
    "# from qiskit.providers.ibmq import least_busy\n",
    "\n",
    "# # Load local account information\n",
    "# IBMQ.load_account()\n",
    "# provider = IBMQ.get_provider(hub='ibm-q')\n",
    "# backend = least_busy(provider.backends(filters=lambda x: x.configuration().n_qubits >= 2 and not x.configuration().simulator and x.status().operational==True))\n",
    "# print(\"least busy backend: \", backend)"
   ]
  },
  {
   "cell_type": "code",
   "execution_count": 12,
   "metadata": {},
   "outputs": [
    {
     "name": "stdout",
     "output_type": "stream",
     "text": [
      "\r",
      "Job Status: job has successfully run\n"
     ]
    }
   ],
   "source": [
    "# run job and result\n",
    "QPoW_job = execute(circuit, backend)\n",
    "QPoW_results = QPoW_job.result()\n",
    "job_monitor(QPoW_job)"
   ]
  },
  {
   "cell_type": "code",
   "execution_count": 13,
   "metadata": {},
   "outputs": [
    {
     "data": {
      "image/png": "[encoded data removed]",
      "text/plain": [
       "<Figure size 504x360 with 1 Axes>"
      ]
     },
     "execution_count": 13,
     "metadata": {},
     "output_type": "execute_result"
    }
   ],
   "source": [
    "# plot results\n",
    "plot_histogram(QPoW_results.get_counts(circuit))"
   ]
  },
  {
   "cell_type": "code",
   "execution_count": 15,
   "metadata": {},
   "outputs": [],
   "source": [
    "output = list(QPoW_results.get_counts(circuit))\n",
    "output_cat = ''.join(output)"
   ]
  },
  {
   "cell_type": "code",
   "execution_count": 16,
   "metadata": {},
   "outputs": [
    {
     "data": {
      "text/plain": [
       "'01110111010110111110'"
      ]
     },
     "execution_count": 16,
     "metadata": {},
     "output_type": "execute_result"
    }
   ],
   "source": [
    "output_cat"
   ]
  },
  {
   "cell_type": "code",
   "execution_count": 17,
   "metadata": {},
   "outputs": [
    {
     "name": "stdout",
     "output_type": "stream",
     "text": [
      "\n",
      "SHA3-256 Hash 3:  da41741eaabd51897291727f2994f01bed50df285644e5524df44f93b0384a7b\n"
     ]
    }
   ],
   "source": [
    "encoded_str = str.encode(output_cat)\n",
    "obj_sha3_256_3 = hashlib.sha3_256(encoded_str)\n",
    "print(\"\\nSHA3-256 Hash 3: \", obj_sha3_256_3.hexdigest())"
   ]
  }
 ],
 "metadata": {
  "kernelspec": {
   "display_name": "Python 3",
   "language": "python",
   "name": "python3"
  },
  "language_info": {
   "codemirror_mode": {
    "name": "ipython",
    "version": 3
   },
   "file_extension": ".py",
   "mimetype": "text/x-python",
   "name": "python",
   "nbconvert_exporter": "python",
   "pygments_lexer": "ipython3",
   "version": "3.7.4"
  }
 },
 "nbformat": 4,
 "nbformat_minor": 2
}
